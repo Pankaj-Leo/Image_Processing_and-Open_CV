{
 "cells": [
  {
   "cell_type": "code",
   "execution_count": 2,
   "metadata": {},
   "outputs": [],
   "source": [
    "# !pip install opencv-python\n",
    "# !pip install ipykernel"
   ]
  },
  {
   "cell_type": "code",
   "metadata": {
    "ExecuteTime": {
     "end_time": "2025-05-26T16:34:21.614960Z",
     "start_time": "2025-05-26T16:34:21.611556Z"
    }
   },
   "source": [
    "import cv2"
   ],
   "outputs": [],
   "execution_count": 3
  },
  {
   "cell_type": "code",
   "metadata": {
    "ExecuteTime": {
     "end_time": "2025-05-26T16:34:22.771795Z",
     "start_time": "2025-05-26T16:34:22.761103Z"
    }
   },
   "source": [
    "# Read the image\n",
    "image = cv2.imread(\"./mountain.jpg\")"
   ],
   "outputs": [],
   "execution_count": 4
  },
  {
   "cell_type": "code",
   "metadata": {
    "ExecuteTime": {
     "end_time": "2025-05-26T16:34:26.388001Z",
     "start_time": "2025-05-26T16:34:26.385678Z"
    }
   },
   "source": [
    "# check if image is loaded successfully\n",
    "if image is None:\n",
    "    print(\"Error : Cound not load the image.\")\n",
    "else:\n",
    "    print(\"Image loaded successfully.\")"
   ],
   "outputs": [
    {
     "name": "stdout",
     "output_type": "stream",
     "text": [
      "Image loaded successfully.\n"
     ]
    }
   ],
   "execution_count": 5
  },
  {
   "cell_type": "code",
   "metadata": {
    "ExecuteTime": {
     "end_time": "2025-05-26T18:01:05.238526Z",
     "start_time": "2025-05-26T18:00:55.803259Z"
    }
   },
   "source": [
    "# Display the image\n",
    "\n",
    "cv2.imshow(\"Image window\", image)\n",
    "cv2.waitKey(0)\n",
    "cv2.destroyAllWindows()"
   ],
   "outputs": [],
   "execution_count": 7
  },
  {
   "cell_type": "code",
   "metadata": {
    "ExecuteTime": {
     "end_time": "2025-05-26T18:02:18.462757Z",
     "start_time": "2025-05-26T18:02:18.451726Z"
    }
   },
   "source": [
    "# Write the image\n",
    "\n",
    "image_new = image + 30\n",
    "cv2.imwrite(\"./output.jpg\", image_new)\n"
   ],
   "outputs": [
    {
     "data": {
      "text/plain": [
       "True"
      ]
     },
     "execution_count": 8,
     "metadata": {},
     "output_type": "execute_result"
    }
   ],
   "execution_count": 8
  }
 ],
 "metadata": {
  "kernelspec": {
   "display_name": "KNCVU",
   "language": "python",
   "name": "python3"
  },
  "language_info": {
   "codemirror_mode": {
    "name": "ipython",
    "version": 3
   },
   "file_extension": ".py",
   "mimetype": "text/x-python",
   "name": "python",
   "nbconvert_exporter": "python",
   "pygments_lexer": "ipython3",
   "version": "3.11.11"
  }
 },
 "nbformat": 4,
 "nbformat_minor": 2
}
